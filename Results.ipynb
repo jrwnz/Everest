{
 "cells": [
  {
   "cell_type": "markdown",
   "metadata": {},
   "source": [
    "# Exploring Clustering and Network Results"
   ]
  },
  {
   "cell_type": "markdown",
   "metadata": {},
   "source": [
    "### Postgres Access"
   ]
  },
  {
   "cell_type": "markdown",
   "metadata": {},
   "source": [
    "Connecting to database:"
   ]
  },
  {
   "cell_type": "code",
   "execution_count": null,
   "metadata": {},
   "outputs": [],
   "source": [
    "import psycopg2\n",
    "import sqlalchemy as sql"
   ]
  },
  {
   "cell_type": "code",
   "execution_count": null,
   "metadata": {},
   "outputs": [],
   "source": [
    "pg_dbname = '...'\n",
    "pg_username = '...'\n",
    "pg_endpoint = '...rds.amazonaws.com'\n",
    "pg_port = '...'\n",
    "pg_password = '...'\n",
    "\n",
    "pg_engine = sql.create_engine('postgres://{}:{}@{}:{}/{}'.format(\n",
    "    pg_username,\n",
    "    pg_password,\n",
    "    pg_endpoint,\n",
    "    pg_port,\n",
    "    pg_dbname))"
   ]
  },
  {
   "cell_type": "markdown",
   "metadata": {},
   "source": [
    "## Text Clustering"
   ]
  },
  {
   "cell_type": "code",
   "execution_count": null,
   "metadata": {},
   "outputs": [],
   "source": [
    "from everest import cluster"
   ]
  },
  {
   "cell_type": "markdown",
   "metadata": {},
   "source": [
    "This pulls the text clustering data and organizes the info into the clusters object:"
   ]
  },
  {
   "cell_type": "code",
   "execution_count": null,
   "metadata": {},
   "outputs": [],
   "source": [
    "clusters = cluster.Clusters(pg_engine)"
   ]
  },
  {
   "cell_type": "markdown",
   "metadata": {},
   "source": [
    "clusters.cluster_info shows info on each cluster, with traffic, domain ratings, and backlinks counts from ahrefs."
   ]
  },
  {
   "cell_type": "code",
   "execution_count": null,
   "metadata": {
    "scrolled": true
   },
   "outputs": [],
   "source": [
    "clusters.cluster_info"
   ]
  },
  {
   "cell_type": "markdown",
   "metadata": {},
   "source": [
    "clusters.cluster_domains shows info on each scraped domain, including its language, which cluster it's in. \n",
    "\n",
    "By default, 'new' says whether it was found since the last upload of ahrefs data. clusters.set_new_date_threshold(date_string) takes a string as an argument (it just as to be recognizable as a date by pandas' pd.to_datetime() function) and uses it as the new threshold for whether a site is 'new'."
   ]
  },
  {
   "cell_type": "code",
   "execution_count": null,
   "metadata": {},
   "outputs": [],
   "source": [
    "clusters.cluster_domains"
   ]
  },
  {
   "cell_type": "markdown",
   "metadata": {},
   "source": [
    "clusers.cluster_backlinks is the same, but with backlinks from the ahrefs database (but only those from scraped domains)."
   ]
  },
  {
   "cell_type": "code",
   "execution_count": null,
   "metadata": {},
   "outputs": [],
   "source": [
    "clusters.cluster_backlinks"
   ]
  },
  {
   "cell_type": "markdown",
   "metadata": {},
   "source": [
    "There are a few ways to pull all info just for domains/backlinks in one cluster:\n",
    "\n",
    "\n",
    "By cluster name:\n",
    "\n",
    "clusters.get_cluster_domains('en48')\n",
    "\n",
    "clusters.get_cluster_backlinks('en48')\n",
    "\n",
    "\n",
    "By domain name / backlink:\n",
    "\n",
    "clusters.get_cluster_domains_by_domain('[redacted]') - i.e. by domain name\n",
    "\n",
    "clusters.get_cluster_backlinks_by_url('[redacted]')\n"
   ]
  },
  {
   "cell_type": "code",
   "execution_count": null,
   "metadata": {
    "scrolled": true
   },
   "outputs": [],
   "source": [
    "clusters.get_cluster_domains('en56')"
   ]
  },
  {
   "cell_type": "code",
   "execution_count": null,
   "metadata": {
    "scrolled": true
   },
   "outputs": [],
   "source": [
    "clusters.get_cluster_domains_by_domain('')"
   ]
  },
  {
   "cell_type": "code",
   "execution_count": null,
   "metadata": {},
   "outputs": [],
   "source": [
    "clusters.get_cluster_backlinks('en48')"
   ]
  },
  {
   "cell_type": "code",
   "execution_count": null,
   "metadata": {},
   "outputs": [],
   "source": [
    "clusters.get_cluster_backlinks_by_url('[redacted]')"
   ]
  },
  {
   "cell_type": "markdown",
   "metadata": {},
   "source": [
    "Since these are all just pandas tables they can all be sorted by whatever columns you want."
   ]
  },
  {
   "cell_type": "markdown",
   "metadata": {},
   "source": [
    "## Link networks"
   ]
  },
  {
   "cell_type": "code",
   "execution_count": null,
   "metadata": {},
   "outputs": [],
   "source": [
    "from everest import network"
   ]
  },
  {
   "cell_type": "markdown",
   "metadata": {},
   "source": [
    "This pulls the network clustering data and organizes each connected component (i.e. each group of interconnected sites)."
   ]
  },
  {
   "cell_type": "code",
   "execution_count": null,
   "metadata": {},
   "outputs": [],
   "source": [
    "networks = network.Networks(pg_engine)"
   ]
  },
  {
   "cell_type": "markdown",
   "metadata": {},
   "source": [
    "networks.component_info gives info for all such components. Components are by default listed in order of size (i.e. number of sites).\n",
    "\n",
    "'density' is the ratio of links to sites.\n",
    "\n",
    "'star' is true if the network is just one central site, with all other sites linking to it but not to each other.\n",
    "\n",
    "'centroid' is the site with the most links within the component.\n",
    "\n",
    "domain and traffic ratings are from ahrefs - the mean across all sites within the component and the max."
   ]
  },
  {
   "cell_type": "code",
   "execution_count": null,
   "metadata": {
    "scrolled": true
   },
   "outputs": [],
   "source": [
    "networks.component_info"
   ]
  },
  {
   "cell_type": "markdown",
   "metadata": {},
   "source": [
    "networks.domain_info gives the info for each domain, including which component it's in, and the number of links in and out."
   ]
  },
  {
   "cell_type": "code",
   "execution_count": null,
   "metadata": {
    "scrolled": true
   },
   "outputs": [],
   "source": [
    "networks.domain_info"
   ]
  },
  {
   "cell_type": "markdown",
   "metadata": {},
   "source": [
    "There are two ways to get info about all the domains for a given component, or draw the component.\n",
    "\n",
    "By component number:\n",
    "networks.get_component(5)\n",
    "\n",
    "By domain or link:\n",
    "networks.get_component_by_domain('medium.com')\n",
    "\n"
   ]
  },
  {
   "cell_type": "code",
   "execution_count": null,
   "metadata": {},
   "outputs": [],
   "source": [
    "networks.get_component(1)"
   ]
  },
  {
   "cell_type": "code",
   "execution_count": null,
   "metadata": {},
   "outputs": [],
   "source": [
    "networks.get_component_by_domain('[redacted]')"
   ]
  },
  {
   "cell_type": "markdown",
   "metadata": {},
   "source": [
    "If you want to remove sites from the graph (e.g. because they're generic sites that everyone links to), you can do it using, eg: \n",
    "\n",
    "networks.remove_node('medium.com')\n",
    "\n",
    "and then to reinstate every node:\n",
    "\n",
    "networks.reset_network_graph()"
   ]
  },
  {
   "cell_type": "code",
   "execution_count": null,
   "metadata": {},
   "outputs": [],
   "source": [
    "networks.remove_node('medium.com')"
   ]
  },
  {
   "cell_type": "code",
   "execution_count": null,
   "metadata": {},
   "outputs": [],
   "source": [
    "networks.reset_network_graph()"
   ]
  },
  {
   "cell_type": "code",
   "execution_count": null,
   "metadata": {},
   "outputs": [],
   "source": [
    "networks.draw_component(5)"
   ]
  },
  {
   "cell_type": "code",
   "execution_count": null,
   "metadata": {},
   "outputs": [],
   "source": [
    "networks.draw_component_by_domain('medium.com')"
   ]
  },
  {
   "cell_type": "code",
   "execution_count": null,
   "metadata": {},
   "outputs": [],
   "source": [
    "networks.set_link_type('all_domains')\n",
    "\n",
    "# Can be 'all_ahrefs_domains', 'all_domains', or 'all_links'"
   ]
  },
  {
   "cell_type": "code",
   "execution_count": null,
   "metadata": {},
   "outputs": [],
   "source": []
  }
 ],
 "metadata": {
  "kernelspec": {
   "display_name": "Python [conda env:everest]",
   "language": "python",
   "name": "conda-env-everest-py"
  },
  "language_info": {
   "codemirror_mode": {
    "name": "ipython",
    "version": 3
   },
   "file_extension": ".py",
   "mimetype": "text/x-python",
   "name": "python",
   "nbconvert_exporter": "python",
   "pygments_lexer": "ipython3",
   "version": "3.7.3"
  }
 },
 "nbformat": 4,
 "nbformat_minor": 2
}
